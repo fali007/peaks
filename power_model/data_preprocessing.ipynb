{
 "cells": [
  {
   "cell_type": "code",
   "execution_count": null,
   "id": "57bdfab5",
   "metadata": {},
   "outputs": [],
   "source": [
    "import pandas as pd\n",
    "import numpy as np\n",
    "import json"
   ]
  },
  {
   "cell_type": "code",
   "execution_count": null,
   "id": "25d5ae2f",
   "metadata": {},
   "outputs": [],
   "source": [
    "data_folder = \"data/\"\n",
    "filename = \"customBenchmark_kepler_query_TwoNodes.json\""
   ]
  },
  {
   "cell_type": "code",
   "execution_count": null,
   "id": "8171c07f",
   "metadata": {},
   "outputs": [],
   "source": [
    "file = open(data_folder + filename)\n",
    "data = file.read()\n",
    "data = json.loads(data)"
   ]
  },
  {
   "cell_type": "code",
   "execution_count": null,
   "id": "b5e3875c",
   "metadata": {},
   "outputs": [],
   "source": [
    "data.keys()"
   ]
  },
  {
   "cell_type": "code",
   "execution_count": null,
   "id": "2ba08e3d",
   "metadata": {},
   "outputs": [],
   "source": [
    "result = {}\n",
    "\n",
    "for metric in data:\n",
    "    temp = []\n",
    "    if metric == 'node_cpu_seconds_total':\n",
    "        for node_metric in data[metric]:\n",
    "            if node_metric['metric']['mode'] == \"idle\":\n",
    "                continue\n",
    "            tmp = [[node_metric['metric']['instance'], node_metric['metric']['cpu'], values[0], values[1]] for values in node_metric['values']]\n",
    "            tmp_df = pd.DataFrame(tmp, columns =['node', 'cpu', 'time', 'value'])\n",
    "            temp.append(tmp_df)\n",
    "    elif metric == 'kepler_node_core_joules_total':\n",
    "        for node_metric in data[metric]:\n",
    "            tmp = [[node_metric['metric']['instance'], node_metric['metric']['package'], values[0], values[1]] for values in node_metric['values']]\n",
    "            tmp_df = pd.DataFrame(tmp, columns =['node', 'cpu', 'time', 'value'])\n",
    "            temp.append(tmp_df)\n",
    "    elif metric == 'kepler_node_dram_joules_total':\n",
    "        for node_metric in data[metric]:\n",
    "            tmp = [[node_metric['metric']['instance'], node_metric['metric']['package'], values[0], values[1]] for values in node_metric['values']]\n",
    "            tmp_df = pd.DataFrame(tmp, columns =['node', 'cpu', 'time', 'value'])\n",
    "            temp.append(tmp_df)\n",
    "    elif metric == 'kepler_node_package_joules_total':\n",
    "        for node_metric in data[metric]:\n",
    "            tmp = [[node_metric['metric']['instance'], node_metric['metric']['package'], values[0], values[1]] for values in node_metric['values']]\n",
    "            tmp_df = pd.DataFrame(tmp, columns =['node', 'cpu', 'time', 'value'])\n",
    "            temp.append(tmp_df)\n",
    "    else:\n",
    "        continue\n",
    "    t = pd.concat(temp)\n",
    "    t['value'] = t['value'].astype(float)\n",
    "    result[metric] = t.reset_index(drop = True)"
   ]
  },
  {
   "cell_type": "code",
   "execution_count": null,
   "id": "776725e5",
   "metadata": {},
   "outputs": [],
   "source": [
    "cpu_util = result['node_cpu_seconds_total']\n",
    "cpu_util_agg = cpu_util.groupby(['node', 'time'], as_index=False)['value'].sum()\n",
    "node_core_power = result['kepler_node_core_joules_total']\n",
    "node_core_power = node_core_power.groupby(['node', 'time'], as_index=False)['value'].sum()\n",
    "node_dram_power = result['kepler_node_dram_joules_total']\n",
    "node_dram_power = node_dram_power.groupby(['node', 'time'], as_index=False)['value'].sum()\n",
    "node_package_power = result['kepler_node_package_joules_total']\n",
    "node_package_power = node_package_power.groupby(['node', 'time'], as_index=False)['value'].sum()"
   ]
  },
  {
   "cell_type": "code",
   "execution_count": null,
   "id": "7bb5d716",
   "metadata": {},
   "outputs": [],
   "source": [
    "final = pd.merge(cpu_util_agg, node_core_power, on = ['time', 'node'])\n",
    "final.rename(columns={'value_x':'util', 'value_y':'core'}, inplace=True)\n",
    "final.sort_values('time', inplace=True)\n",
    "\n",
    "final = pd.merge(final, node_dram_power, on = ['time', 'node'])\n",
    "final.rename(columns={'value':'dram'}, inplace=True)\n",
    "\n",
    "final = pd.merge(final, node_package_power, on = ['time', 'node'])\n",
    "final.rename(columns={'value':'package'}, inplace=True)"
   ]
  },
  {
   "cell_type": "code",
   "execution_count": null,
   "id": "ea607c69",
   "metadata": {},
   "outputs": [],
   "source": [
    "final"
   ]
  },
  {
   "cell_type": "code",
   "execution_count": null,
   "id": "5c0c7c29",
   "metadata": {},
   "outputs": [],
   "source": [
    "import model"
   ]
  },
  {
   "cell_type": "code",
   "execution_count": null,
   "id": "accad998",
   "metadata": {},
   "outputs": [],
   "source": [
    "m = model.UtilisationPowerModel()\n",
    "node_power_models = {}\n",
    "for node in final['node'].unique():\n",
    "#     if node != '10.242.64.5':\n",
    "#         continue\n",
    "    node_df = final[final['node'] == node]\n",
    "    node_df['util'] = node_df['util'].diff()\n",
    "    node_df['core'] = node_df['core'].diff()\n",
    "    node_df['dram'] = node_df['dram'].diff()\n",
    "    node_df['package'] = node_df['package'].diff()\n",
    "    node_df['energy'] = node_df['core'] + node_df['dram'] + node_df['package']\n",
    "    node_df.fillna(0, inplace=True)\n",
    "    node_df['energy'] = node_df['energy'].shift(1)\n",
    "    node_df = node_df[(node_df[['util']] != 0).all(axis=1)]\n",
    "    node_df = node_df[(node_df[['energy']] != 0).all(axis=1)]\n",
    "    max_util = max(node_df['util'])\n",
    "    node_df['util'] = node_df['util']/max_util\n",
    "    node_df['time_diff'] = node_df['time'].diff()\n",
    "    node_df['power'] = node_df['energy']/node_df['time_diff']\n",
    "    node_df['power'].fillna(node_df['power'].mean(), inplace=True)\n",
    "    node_power_models[node] = m.get_model(node_df[['util', 'power']])"
   ]
  },
  {
   "cell_type": "code",
   "execution_count": null,
   "id": "5048b33d",
   "metadata": {},
   "outputs": [],
   "source": [
    "node_power_models"
   ]
  },
  {
   "cell_type": "code",
   "execution_count": null,
   "id": "6791992e",
   "metadata": {},
   "outputs": [],
   "source": []
  }
 ],
 "metadata": {
  "kernelspec": {
   "display_name": "Python 3 (ipykernel)",
   "language": "python",
   "name": "python3"
  },
  "language_info": {
   "codemirror_mode": {
    "name": "ipython",
    "version": 3
   },
   "file_extension": ".py",
   "mimetype": "text/x-python",
   "name": "python",
   "nbconvert_exporter": "python",
   "pygments_lexer": "ipython3",
   "version": "3.10.8"
  }
 },
 "nbformat": 4,
 "nbformat_minor": 5
}
