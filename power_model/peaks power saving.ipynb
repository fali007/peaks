{
 "cells": [
  {
   "cell_type": "code",
   "execution_count": null,
   "id": "1ce77c31",
   "metadata": {},
   "outputs": [],
   "source": [
    "import numpy as np\n",
    "import matplotlib.pyplot as plt\n",
    "import math"
   ]
  },
  {
   "cell_type": "code",
   "execution_count": null,
   "id": "b1316028",
   "metadata": {},
   "outputs": [],
   "source": [
    "node1_model = (371.7412504314313, -91.50493019588365, -0.03186049052516228)\n",
    "node2_model = (371.7412504314313, -91.50493019588365, -0.05186049052516228)\n",
    "\n",
    "def get_node_power_for_util(model, util):\n",
    "    return model[0] + model[1]*np.exp(model[2]*util)"
   ]
  },
  {
   "cell_type": "code",
   "execution_count": null,
   "id": "bf2f43fd",
   "metadata": {},
   "outputs": [],
   "source": [
    "# Plot power model graph\n",
    "util = [i for i in range(100)]\n",
    "node1_power = [get_node_power_for_util(node1_model, i) for i in util]\n",
    "node2_power = [get_node_power_for_util(node2_model, i) for i in util]\n",
    "\n",
    "plt.plot(util, node1_power)\n",
    "plt.plot(util, node2_power)\n",
    "plt.legend(['node1', 'node2'])\n",
    "plt.xlabel('utilisation')\n",
    "plt.ylabel('power')\n",
    "plt.title(\"Utilisation power graph of 2 nodes with different power model\")\n",
    "plt.show()"
   ]
  },
  {
   "cell_type": "code",
   "execution_count": null,
   "id": "05b0608c",
   "metadata": {},
   "outputs": [],
   "source": [
    "# Calculate difference in power\n",
    "# Scenario 1 both nodes 50% filled vs one node 100% filled\n",
    "\n",
    "util = [i for i in range(50)]\n",
    "cluster_total_power_spread = [get_node_power_for_util(node1_model, i) + get_node_power_for_util(node2_model, i) for i in util]\n",
    "cluster_total_power_peaks = [get_node_power_for_util(node1_model, i*2) + get_node_power_for_util(node2_model, 0) for i in util]"
   ]
  },
  {
   "cell_type": "code",
   "execution_count": null,
   "id": "7fdc999d",
   "metadata": {},
   "outputs": [],
   "source": [
    "plt.plot(util, cluster_total_power_spread)\n",
    "plt.plot(util, cluster_total_power_peaks)\n",
    "plt.legend(['node topology spread', 'peaks'])\n",
    "plt.xlabel('utilisation')\n",
    "plt.ylabel('power')\n",
    "plt.title(\"power diff\")\n",
    "plt.show()"
   ]
  },
  {
   "cell_type": "code",
   "execution_count": 1,
   "id": "33ac9816",
   "metadata": {},
   "outputs": [],
   "source": [
    "node_package_power_file = \"kepler_node_package_joules_total_2024-03-07 00:38:22.558554.csv\"\n",
    "node_dram_power_file = \"kepler_node_dram_joules_total_2024-03-07 00:38:21.492959.csv\""
   ]
  },
  {
   "cell_type": "code",
   "execution_count": null,
   "id": "05dab2e0",
   "metadata": {},
   "outputs": [],
   "source": []
  }
 ],
 "metadata": {
  "kernelspec": {
   "display_name": "Python 3 (ipykernel)",
   "language": "python",
   "name": "python3"
  },
  "language_info": {
   "codemirror_mode": {
    "name": "ipython",
    "version": 3
   },
   "file_extension": ".py",
   "mimetype": "text/x-python",
   "name": "python",
   "nbconvert_exporter": "python",
   "pygments_lexer": "ipython3",
   "version": "3.10.8"
  }
 },
 "nbformat": 4,
 "nbformat_minor": 5
}
